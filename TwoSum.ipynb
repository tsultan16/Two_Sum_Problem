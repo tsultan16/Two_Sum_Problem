{
 "cells": [
  {
   "attachments": {},
   "cell_type": "markdown",
   "metadata": {},
   "source": [
    "**An efficient solver for the Two-Sum problem** \n",
    "\n",
    "**Author: Tanzid Sultan**\n",
    "\n",
    "**Problem statement:** Given a sorted array of integers `A[]`, our goal is two find a pair of integers `a_1` and `a_2` from this array which satisfy `a_1 + a_2 = k`, for some given integer `k`. \n",
    "\n",
    "Below is a function, called `TwoSumMoreImproved`, implementing an 0(n) time-complexity algorithm for solving this problem. The inputs consist of `A[]` and `k`. The function returns `True` and a pair of integers `(a_1, a_2)` for which `a_1 + a_2 = k`. If no such pair exists, the function returns `False` and the pair of integers `(-1,-1)`."
   ]
  },
  {
   "cell_type": "code",
   "execution_count": 71,
   "metadata": {},
   "outputs": [],
   "source": [
    "import math\n",
    "\n",
    "def TwoSumMoreImproved(A,k):\n",
    "   \n",
    "    # transform the array\n",
    "    Ap = []\n",
    "    for i in range(len(A)):\n",
    "        Ap.append(A[i] - k/2)\n",
    "\n",
    "    # find all distinct elements\n",
    "    distinct = list(set(Ap))\n",
    "\n",
    "    # initialize dictionary\n",
    "    B = dict()\n",
    "    for i in range(len(distinct)):\n",
    "        key = abs(distinct[i]) \n",
    "        B[key] = 0\n",
    "\n",
    "    # search for identical zeros (i.e. a1 = a2)\n",
    "    j = BinSearch(Ap, 0, len(Ap), 0)\n",
    "    if(j != -1):\n",
    "        if((Ap[j-1] == 0 and j > 0) or (Ap[j+1] == 0 and j < len(Ap))):\n",
    "            return True, k/2, k/2    \n",
    "\n",
    "    # search for non-identical solutions of two sum problem (i.e. a1 =/= a2)\n",
    "    for i in range(len(Ap)):\n",
    "\n",
    "        if (i == 0):\n",
    "            key = abs(Ap[i])\n",
    "            B[key] += 1\n",
    "\n",
    "        if(i > 0):\n",
    "            # exclude duplicate items from the count\n",
    "            if(Ap[i-1] != Ap[i]):\n",
    "                # increment the count of absolute value of the item\n",
    "                key = abs(Ap[i])\n",
    "                B[key] += 1\n",
    "                # check if any item has count greater than 1 \n",
    "                if (B[key] > 1):\n",
    "                    return True, key + k/2, -key + k/2\n",
    "\n",
    "    return False, -1, -1\n",
    "\n",
    "\n",
    "def BinSearch(A, lo, hi, key):\n",
    "  \n",
    "    if lo > hi:\n",
    "        return -1\n",
    "\n",
    "    mid = math.floor(lo + (hi-lo)/2)\n",
    "\n",
    "    if(A[mid] == key):\n",
    "        return mid\n",
    "    elif(key <  A[mid]):\n",
    "        return BinSearch(A, lo, mid-1, key)\n",
    "    elif(key > A[mid]):\n",
    "        return BinSearch(A, mid+1, hi, key)    \n",
    "\n"
   ]
  },
  {
   "attachments": {},
   "cell_type": "markdown",
   "metadata": {},
   "source": [
    "We will later compare the efficiency of our algorithm with two other algorithms with lower worst-case performance: A `brute-force` algorithm which has theoretical time-complexity of `O(n^2)` and an `improved` algorithm with `0(n log n)` time-complexity. "
   ]
  },
  {
   "cell_type": "code",
   "execution_count": 72,
   "metadata": {},
   "outputs": [],
   "source": [
    "def TwoSumBrute(A, k):\n",
    "\n",
    "    for i in range(len(A)-1):\n",
    "        for j in range(len(A)-1-i):\n",
    "            if((A[i] + A[i+j+1]) == k):\n",
    "                return True, A[i], A[i+j+1]\n",
    "    \n",
    "    return False, -1, -1   \n",
    "    \n",
    "\n",
    "def TwoSumImproved(A, k):\n",
    "\n",
    "    for i in range(len(A)):\n",
    "        a1 = A[i]\n",
    "        a2 = k-a1\n",
    "        j = BinSearch(A,0,len(A)-1,a2)\n",
    "        if(j != -1):\n",
    "            return True, A[i], A[j]\n",
    "\n",
    "    return False, -1, -1        "
   ]
  },
  {
   "attachments": {},
   "cell_type": "markdown",
   "metadata": {},
   "source": [
    "***Testing*** our O(n) function for solving two sum problem for the following given inputs:"
   ]
  },
  {
   "cell_type": "code",
   "execution_count": 74,
   "metadata": {},
   "outputs": [
    {
     "name": "stdout",
     "output_type": "stream",
     "text": [
      "Solution of Two Sum (more improved): (True, 8002.0, 4.0)\n",
      "Solution of Two Sum (improved): (True, 4, 8002)\n",
      "Solution of Two Sum (brute force): (True, 4, 8002)\n"
     ]
    }
   ],
   "source": [
    "A = [4, 9, 12, 13, 15, 19, 20, 35, 44, 51, 51, 65, 97, 205, 317, 368, 409, 470, 800, 967, \n",
    "     1055, 1200, 1559, 8002]\n",
    "\n",
    "k = 8006\n",
    "print(f\"Solution of Two Sum (more improved): {TwoSumMoreImproved(A,k)}\")\n",
    "print(f\"Solution of Two Sum (improved): {TwoSumImproved(A,k)}\")\n",
    "print(f\"Solution of Two Sum (brute force): {TwoSumBrute(A,k)}\")"
   ]
  },
  {
   "cell_type": "code",
   "execution_count": 75,
   "metadata": {},
   "outputs": [
    {
     "name": "stdout",
     "output_type": "stream",
     "text": [
      "Solution of Two Sum (more improved): (True, 51.0, 51.0)\n",
      "Solution of Two Sum (improved): (True, 51, 51)\n",
      "Solution of Two Sum (brute force): (True, 51, 51)\n"
     ]
    }
   ],
   "source": [
    "k = 102\n",
    "print(f\"Solution of Two Sum (more improved): {TwoSumMoreImproved(A,k)}\")\n",
    "print(f\"Solution of Two Sum (improved): {TwoSumImproved(A,k)}\")\n",
    "print(f\"Solution of Two Sum (brute force): {TwoSumBrute(A,k)}\")"
   ]
  },
  {
   "cell_type": "code",
   "execution_count": 76,
   "metadata": {},
   "outputs": [
    {
     "name": "stdout",
     "output_type": "stream",
     "text": [
      "Solution of Two Sum (more improved): (False, -1, -1)\n",
      "Solution of Two Sum (improved): (False, -1, -1)\n",
      "Solution of Two Sum (brute force): (False, -1, -1)\n"
     ]
    }
   ],
   "source": [
    "k = 5\n",
    "print(f\"Solution of Two Sum (more improved): {TwoSumMoreImproved(A,k)}\")\n",
    "print(f\"Solution of Two Sum (improved): {TwoSumImproved(A,k)}\")\n",
    "print(f\"Solution of Two Sum (brute force): {TwoSumBrute(A,k)}\")"
   ]
  },
  {
   "cell_type": "code",
   "execution_count": 77,
   "metadata": {},
   "outputs": [
    {
     "name": "stdout",
     "output_type": "stream",
     "text": [
      "k = -136\n",
      "Solution of Two Sum (more improved): (True, 735.0, -871.0)\n",
      "Solution of Two Sum (improved): (True, -982, 846)\n",
      "Solution of Two Sum (brute force): (True, -982, 846)\n"
     ]
    }
   ],
   "source": [
    "import random\n",
    "\n",
    "random.seed(1)\n",
    "A = sorted(random.sample(range(-1000,1000), 50))\n",
    "k = random.sample(range(-1000,1000), 1)[0]\n",
    "print(f\"k = {k}\")\n",
    "print(f\"Solution of Two Sum (more improved): {TwoSumMoreImproved(A,k)}\")\n",
    "print(f\"Solution of Two Sum (improved): {TwoSumImproved(A,k)}\")\n",
    "print(f\"Solution of Two Sum (brute force): {TwoSumBrute(A,k)}\")"
   ]
  },
  {
   "cell_type": "code",
   "execution_count": 78,
   "metadata": {},
   "outputs": [
    {
     "name": "stdout",
     "output_type": "stream",
     "text": [
      "Solution of Two Sum (more improved): (False, -1, -1)\n",
      "Solution of Two Sum (improved): (False, -1, -1)\n",
      "Solution of Two Sum (brute force): (False, -1, -1)\n"
     ]
    }
   ],
   "source": [
    "k = 600\n",
    "print(f\"Solution of Two Sum (more improved): {TwoSumMoreImproved(A,k)}\")\n",
    "print(f\"Solution of Two Sum (improved): {TwoSumImproved(A,k)}\")\n",
    "print(f\"Solution of Two Sum (brute force): {TwoSumBrute(A,k)}\")"
   ]
  },
  {
   "attachments": {},
   "cell_type": "markdown",
   "metadata": {},
   "source": [
    "***Estimation of worst-case time complexity:*** We test the algorithm for varying sizes of the input array and measure the program execution time. We use contrived input values for which a solution for the two-sum problem does not exist and maximum number of computations occur. We plot the results along with a linear best fit line."
   ]
  },
  {
   "cell_type": "code",
   "execution_count": 49,
   "metadata": {},
   "outputs": [
    {
     "name": "stdout",
     "output_type": "stream",
     "text": [
      "n = 1000, Solution of Two Sum (more improved): (False, -1, -1), execution time = 0.0074527000000000005s\n",
      "n = 10000, Solution of Two Sum (more improved): (False, -1, -1), execution time = 0.0727348s\n",
      "n = 100000, Solution of Two Sum (more improved): (False, -1, -1), execution time = 0.37811120000000004s\n",
      "n = 500000, Solution of Two Sum (more improved): (False, -1, -1), execution time = 1.923578s\n",
      "n = 1000000, Solution of Two Sum (more improved): (False, -1, -1), execution time = 3.3010548s\n",
      "n = 2500000, Solution of Two Sum (more improved): (False, -1, -1), execution time = 8.307668600000001s\n",
      "n = 5000000, Solution of Two Sum (more improved): (False, -1, -1), execution time = 15.744422900000002s\n",
      "n = 7500000, Solution of Two Sum (more improved): (False, -1, -1), execution time = 23.714372700000002s\n",
      "n = 10000000, Solution of Two Sum (more improved): (False, -1, -1), execution time = 31.3678354s\n",
      "n = 17500000, Solution of Two Sum (more improved): (False, -1, -1), execution time = 61.435986400000004s\n",
      "n = 25000000, Solution of Two Sum (more improved): (False, -1, -1), execution time = 81.15553320000001s\n"
     ]
    }
   ],
   "source": [
    "import time\n",
    "\n",
    "stats_n = []\n",
    "stats_T = []\n",
    "test_n = [1000, 10000, 100000, 500000, 1000000, 2500000, 5000000, 7500000, \n",
    "          10000000, 17500000, 25000000]\n",
    "\n",
    "for n in test_n: \n",
    "\n",
    "    # size n sorted array of evenly spaced integers in the range [1,n+2)\n",
    "    A = np.arange(1, n+2) \n",
    "    # target sum integer \n",
    "    k = 0 \n",
    "\n",
    "    start = time.perf_counter_ns()\n",
    "    solution = TwoSumMoreImproved(A,k)\n",
    "    end = time.perf_counter_ns()\n",
    "    stats_T.append((end - start)*1.e-9)\n",
    "    print(f\"n = {n}, Solution of Two Sum (more improved): {solution}, \n",
    "            execution time = {(end - start)*1.e-9}s\")\n",
    "\n",
    "    stats_n.append(n)\n"
   ]
  },
  {
   "cell_type": "code",
   "execution_count": 50,
   "metadata": {},
   "outputs": [
    {
     "data": {
      "image/png": "[encoded data removed]",
      "text/plain": [
       "<Figure size 700x500 with 1 Axes>"
      ]
     },
     "metadata": {},
     "output_type": "display_data"
    }
   ],
   "source": [
    "import numpy as np\n",
    "import matplotlib.pyplot as plt\n",
    "\n",
    "# parameters of linear regression line\n",
    "c = np.polyfit(stats_n, stats_T, 1)\n",
    "lin_fit = [c[0]*n for n in stats_n]\n",
    "\n",
    "plt.figure(figsize=(7,5))\n",
    "plt.plot(stats_n, stats_T, 'o', markersize= 5)\n",
    "plt.plot(stats_n, lin_fit, 'r', linewidth = 0.5)\n",
    "plt.xlabel(\"size of input array\")\n",
    "plt.ylabel(\"program execution time (seconds)\")\n",
    "plt.grid()\n",
    "plt.show()"
   ]
  },
  {
   "attachments": {},
   "cell_type": "markdown",
   "metadata": {},
   "source": [
    "This plot shows that the `program execution time is bounded by a linear function over input sizes spanning 4 orders of magnitude`. "
   ]
  },
  {
   "attachments": {},
   "cell_type": "markdown",
   "metadata": {},
   "source": [
    "***Performance Benchmarking:*** Now we will compare the performance of our three different two-sum algorithms. The `brute force` algorithm has theoretical time complexity of O(n^2), the `improved` algorithm with binary search has theoretical time complexity of O(n log n) and the `more improved` algorithm has theoretical time complexity of O(n). "
   ]
  },
  {
   "cell_type": "code",
   "execution_count": 51,
   "metadata": {},
   "outputs": [
    {
     "name": "stdout",
     "output_type": "stream",
     "text": [
      "k = 0\n",
      "Solution of Two Sum (brute force): (False, -1, -1), execution time = 0.0036127000000000004s\n",
      "Solution of Two Sum (improved): (False, -1, -1), execution time = 0.0006810000000000001s\n",
      "Solution of Two Sum (more improved): (False, -1, -1), execution time = 0.00047430000000000004s\n",
      "k = 0\n",
      "Solution of Two Sum (brute force): (False, -1, -1), execution time = 0.2761438s\n",
      "Solution of Two Sum (improved): (False, -1, -1), execution time = 0.005246000000000001s\n",
      "Solution of Two Sum (more improved): (False, -1, -1), execution time = 0.0028559s\n",
      "k = 0\n",
      "Solution of Two Sum (brute force): (False, -1, -1), execution time = 0.9408430000000001s\n",
      "Solution of Two Sum (improved): (False, -1, -1), execution time = 0.0131065s\n",
      "Solution of Two Sum (more improved): (False, -1, -1), execution time = 0.0087735s\n",
      "k = 0\n",
      "Solution of Two Sum (brute force): (False, -1, -1), execution time = 5.421715000000001s\n",
      "Solution of Two Sum (improved): (False, -1, -1), execution time = 0.0395014s\n",
      "Solution of Two Sum (more improved): (False, -1, -1), execution time = 0.0158773s\n",
      "k = 0\n",
      "Solution of Two Sum (brute force): (False, -1, -1), execution time = 20.3656387s\n",
      "Solution of Two Sum (improved): (False, -1, -1), execution time = 0.080455s\n",
      "Solution of Two Sum (more improved): (False, -1, -1), execution time = 0.031083000000000003s\n",
      "k = 0\n",
      "Solution of Two Sum (brute force): (False, -1, -1), execution time = 46.4166619s\n",
      "Solution of Two Sum (improved): (False, -1, -1), execution time = 0.11973280000000001s\n",
      "Solution of Two Sum (more improved): (False, -1, -1), execution time = 0.046432900000000006s\n",
      "k = 0\n",
      "Solution of Two Sum (brute force): (False, -1, -1), execution time = 82.69302060000001s\n",
      "Solution of Two Sum (improved): (False, -1, -1), execution time = 0.19071990000000003s\n",
      "Solution of Two Sum (more improved): (False, -1, -1), execution time = 0.06498280000000001s\n",
      "k = 0\n",
      "Solution of Two Sum (brute force): (False, -1, -1), execution time = 193.99903780000002s\n",
      "Solution of Two Sum (improved): (False, -1, -1), execution time = 0.2587335s\n",
      "Solution of Two Sum (more improved): (False, -1, -1), execution time = 0.1007909s\n",
      "k = 0\n",
      "Solution of Two Sum (brute force): (False, -1, -1), execution time = 543.8891825000001s\n",
      "Solution of Two Sum (improved): (False, -1, -1), execution time = 0.4515409s\n",
      "Solution of Two Sum (more improved): (False, -1, -1), execution time = 0.15191280000000001s\n",
      "k = 0\n",
      "Solution of Two Sum (brute force): (False, -1, -1), execution time = 1257.5880377s\n",
      "Solution of Two Sum (improved): (False, -1, -1), execution time = 0.7551064000000001s\n",
      "Solution of Two Sum (more improved): (False, -1, -1), execution time = 0.23217110000000002s\n",
      "k = 0\n",
      "Solution of Two Sum (brute force): (False, -1, -1), execution time = 2064.7137153000003s\n",
      "Solution of Two Sum (improved): (False, -1, -1), execution time = 0.9914048000000001s\n",
      "Solution of Two Sum (more improved): (False, -1, -1), execution time = 0.31846820000000003s\n"
     ]
    }
   ],
   "source": [
    "stats_n = []\n",
    "stats_T_brute_force = []\n",
    "stats_T_improved = []\n",
    "stats_T_more_improved = []\n",
    "test_n = [100, 1000, 2000, 5000, 10000, 15000, 20000, 30000, 50000, 75000, 100000]\n",
    "\n",
    "for n in test_n: \n",
    "\n",
    "    # size n sorted array of evenly spaced integers in the range [1,n+2)\n",
    "    A = np.arange(1, n+2) \n",
    "    # target sum integer \n",
    "    k = 0 \n",
    "\n",
    "    print(f\"k = {k}\")\n",
    "\n",
    "    start = time.perf_counter_ns()\n",
    "    solution = TwoSumBrute(A,k)\n",
    "    end = time.perf_counter_ns()\n",
    "    stats_T_brute_force.append((end - start)*1.e-9)\n",
    "    print(f\"Solution of Two Sum (brute force): {solution}, \n",
    "            execution time = {(end - start)*1.e-9}s\")\n",
    "\n",
    "    start = time.perf_counter_ns()\n",
    "    solution = TwoSumImproved(A,k)\n",
    "    end = time.perf_counter_ns()\n",
    "    stats_T_improved.append((end - start)*1.e-9)\n",
    "    print(f\"Solution of Two Sum (improved): {solution}, \n",
    "            execution time = {(end - start)*1.e-9}s\")\n",
    "\n",
    "    start = time.perf_counter_ns()\n",
    "    solution = TwoSumMoreImproved(A,k)\n",
    "    end = time.perf_counter_ns()\n",
    "    stats_T_more_improved.append((end - start)*1.e-9)\n",
    "    print(f\"Solution of Two Sum (more improved): {solution}, \n",
    "            execution time = {(end - start)*1.e-9}s\")\n",
    "\n",
    "    stats_n.append(n)\n"
   ]
  },
  {
   "cell_type": "code",
   "execution_count": 70,
   "metadata": {},
   "outputs": [
    {
     "data": {
      "image/png": "[encoded data removed]",
      "text/plain": [
       "<Figure size 700x500 with 1 Axes>"
      ]
     },
     "metadata": {},
     "output_type": "display_data"
    }
   ],
   "source": [
    "import numpy as np\n",
    "import matplotlib.pyplot as plt\n",
    "\n",
    "# parameters of linear regression line\n",
    "#lin_fit = [c[0]*n for n in stats_n]\n",
    "\n",
    "log_n = [np.log10(n) for n in stats_n] \n",
    "log_T_brute_force = [np.log10(T) for T in stats_T_brute_force] \n",
    "log_T_improved = [np.log10(T) for T in stats_T_improved] \n",
    "log_T_more_improved = [np.log10(T) for T in stats_T_more_improved] \n",
    "T_fit = [logn-2.2+log_T_more_improved[0] for logn in log_n]\n",
    "T_square_fit = [2.0*logn-4.2+log_T_brute_force[0] for logn in log_n]\n",
    "\n",
    "\n",
    "plt.figure(figsize=(7,5))\n",
    "plt.plot(log_n, log_T_brute_force, 'o', markersize= 5, label = 'Brute Force')\n",
    "plt.plot(log_n, log_T_improved, 'o', markersize= 5, label = 'Improved')\n",
    "plt.plot(log_n, log_T_more_improved, 'o', markersize= 5, label = 'More Improved')\n",
    "plt.plot(log_n, T_fit, 'g--', linewidth = 0.5, label = 'log(n)')\n",
    "plt.plot(log_n, T_square_fit, 'b--', linewidth = 0.5, label = 'log(n^2)')\n",
    "plt.xlabel(\"log(size of input array)\")\n",
    "plt.ylabel(\"log(program execution time (seconds))\")\n",
    "plt.legend()\n",
    "plt.grid()\n",
    "plt.show()"
   ]
  },
  {
   "attachments": {},
   "cell_type": "markdown",
   "metadata": {},
   "source": [
    "This plot shows the `logarithm of program execution time on the vertical axis` and `logarithm of input size on the horizontal axis` with data from three different two-sum algorithms. The blue dashed line corresponds to `logarithm of n^2` and the green dashed line corresponds to `logarithm of n`. The data points from the `brute force algorithm` clearly coincide with the blue dashed line confirming that the theoretical worst-case time complexity is `O(n^2)`. Whereas, the data points from the `more improved algorithm` can be seen to clearly coincide with the green dashed line confirming that the theoretical worst-case time complexity of `O(n)`. The `improved algorithm` which has theoretical worst-case time complexity of `O(n logn)` can be clearly seen to be in the intermediate region between the green and blue dashed lines.   "
   ]
  }
 ],
 "metadata": {
  "kernelspec": {
   "display_name": "base",
   "language": "python",
   "name": "python3"
  },
  "language_info": {
   "codemirror_mode": {
    "name": "ipython",
    "version": 3
   },
   "file_extension": ".py",
   "mimetype": "text/x-python",
   "name": "python",
   "nbconvert_exporter": "python",
   "pygments_lexer": "ipython3",
   "version": "3.9.13"
  },
  "orig_nbformat": 4,
  "vscode": {
   "interpreter": {
    "hash": "9c33a4b78f25ca193ac0e5d364d7d3063f733f081252300b2d3ea45bb6da6642"
   }
  }
 },
 "nbformat": 4,
 "nbformat_minor": 2
}
